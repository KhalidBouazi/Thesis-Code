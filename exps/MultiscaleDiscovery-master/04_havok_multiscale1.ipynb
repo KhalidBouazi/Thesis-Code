{
 "cells": [
  {
   "cell_type": "code",
   "execution_count": 1,
   "metadata": {
    "collapsed": true
   },
   "outputs": [],
   "source": [
    "import numpy as np\n",
    "import utils\n",
    "import matplotlib\n",
    "import matplotlib.pyplot as plt\n",
    "from mpl_toolkits.mplot3d import Axes3D\n",
    "from matplotlib import colors\n",
    "%matplotlib inline\n",
    "from IPython.display import set_matplotlib_formats\n",
    "set_matplotlib_formats('png', 'pdf')\n",
    "plt.rc('font', size=14)"
   ]
  },
  {
   "cell_type": "code",
   "execution_count": 2,
   "metadata": {
    "collapsed": true
   },
   "outputs": [],
   "source": [
    "frequency_multipliers = 2**np.arange(3,8)"
   ]
  },
  {
   "cell_type": "markdown",
   "metadata": {},
   "source": [
    "## No spacing, large time step"
   ]
  },
  {
   "cell_type": "code",
   "execution_count": 3,
   "metadata": {},
   "outputs": [
    {
     "name": "stdout",
     "output_type": "stream",
     "text": [
      "Frequency multiplier 8\n",
      "Frequency multiplier 16\n",
      "Frequency multiplier 32\n",
      "Frequency multiplier 64\n",
      "Frequency multiplier 128\n"
     ]
    }
   ],
   "source": [
    "downsample_errors = np.zeros(frequency_multipliers.shape)\n",
    "downsample_matrix_size = np.zeros((frequency_multipliers.size,2))\n",
    "\n",
    "for fm_idx,frequency_multiplier in enumerate(frequency_multipliers):\n",
    "    print(\"Frequency multiplier %d\" % frequency_multiplier)\n",
    "\n",
    "    mu1=5\n",
    "    mu2=5\n",
    "    c1 = 0\n",
    "    c2 = 0\n",
    "    tau1=.2\n",
    "    tau2=tau1*frequency_multiplier\n",
    "\n",
    "    x0=[0.0,2.0,2.0,0.0]\n",
    "    \n",
    "    fast_period_length = 11.45015*tau1\n",
    "    slow_period_length = fast_period_length*frequency_multiplier\n",
    "\n",
    "    num_periods_simulate = 10\n",
    "    sampling_rate_simulate = 2048\n",
    "    t_simulate = np.linspace(0, num_periods_simulate*slow_period_length,\n",
    "                    int(num_periods_simulate*sampling_rate_simulate*slow_period_length/fast_period_length))\n",
    "    dt_simulate = t_simulate[1]-t_simulate[0]\n",
    "\n",
    "    initial_samples = int(5*sampling_rate_simulate)\n",
    "    vdp_simulation = utils.simulate_coupled_vdp(dt_simulate, t_simulate.size+initial_samples, x0=x0,\n",
    "                                              mu1=mu1, mu2=mu2, c1=c1, c2=c2, tau1=tau1, tau2=tau2)[0]\n",
    "    vdp_solution = vdp_simulation[:,initial_samples:]\n",
    "    coupled_solution = vdp_solution[0:1] + vdp_solution[2:3]\n",
    "    \n",
    "    num_periods_subsample = 5\n",
    "    sampling_rate_subsample = 1024//frequency_multiplier\n",
    "\n",
    "    t_max_idx = int(num_periods_subsample*slow_period_length/dt_simulate)+2\n",
    "    spacing = sampling_rate_simulate//sampling_rate_subsample\n",
    "\n",
    "    t_sample = t_simulate[:t_max_idx:spacing]\n",
    "    dt_sample = t_sample[1] - t_sample[0]\n",
    "\n",
    "    sampled_data = coupled_solution[:,:t_max_idx:spacing]\n",
    "\n",
    "    time_delay=sampling_rate_subsample*frequency_multiplier\n",
    "    time_delay_spacing=1\n",
    "    rank=100\n",
    "    \n",
    "    sample_spacing=1\n",
    "    dt_scaling=1\n",
    "\n",
    "    dmd = utils.DMD(truncation='hard', threshold=rank, time_delay=time_delay, time_delay_spacing=time_delay_spacing)\n",
    "    dmd.fit(sampled_data, dt_sample, sample_spacing=sample_spacing, dt_scale=dt_scaling)\n",
    "    dmd_reconstruction = dmd.reconstruct(t_simulate, imaginary_evals=True)\n",
    "\n",
    "    error = np.mean((coupled_solution[0] - dmd_reconstruction[0])**2)\n",
    "    downsample_errors[fm_idx] = error\n",
    "    downsample_matrix_size[fm_idx] = utils.hankel_matrix(sampled_data, time_delay,\n",
    "                                                    spacing=time_delay_spacing)[:,dt_scaling::sample_spacing].shape"
   ]
  },
  {
   "cell_type": "markdown",
   "metadata": {},
   "source": [
    "## No spacing, small time step"
   ]
  },
  {
   "cell_type": "code",
   "execution_count": 4,
   "metadata": {},
   "outputs": [
    {
     "name": "stdout",
     "output_type": "stream",
     "text": [
      "Frequency multiplier 8\n",
      "Frequency multiplier 16\n",
      "Frequency multiplier 32\n",
      "Frequency multiplier 64\n",
      "Frequency multiplier 128\n"
     ]
    }
   ],
   "source": [
    "nospacing_errors = np.zeros(frequency_multipliers.shape)\n",
    "nospacing_matrix_size = np.zeros((frequency_multipliers.size,2))\n",
    "\n",
    "for fm_idx,frequency_multiplier in enumerate(frequency_multipliers):\n",
    "    print(\"Frequency multiplier %d\" % frequency_multiplier)\n",
    "\n",
    "    mu1=5\n",
    "    mu2=5\n",
    "    c1 = 0\n",
    "    c2 = 0\n",
    "    tau1=.2\n",
    "    tau2=tau1*frequency_multiplier\n",
    "\n",
    "    x0=[0.0,2.0,2.0,0.0]\n",
    "    \n",
    "    fast_period_length = 11.45015*tau1\n",
    "    slow_period_length = fast_period_length*frequency_multiplier\n",
    "\n",
    "    num_periods_simulate = 10\n",
    "    sampling_rate_simulate = 2048\n",
    "    t_simulate = np.linspace(0, num_periods_simulate*slow_period_length,\n",
    "                    int(num_periods_simulate*sampling_rate_simulate*slow_period_length/fast_period_length))\n",
    "    dt_simulate = t_simulate[1]-t_simulate[0]\n",
    "\n",
    "    initial_samples = int(5*sampling_rate_simulate)\n",
    "    vdp_simulation = utils.simulate_coupled_vdp(dt_simulate, t_simulate.size+initial_samples, x0=x0,\n",
    "                                              mu1=mu1, mu2=mu2, c1=c1, c2=c2, tau1=tau1, tau2=tau2)[0]\n",
    "    vdp_solution = vdp_simulation[:,initial_samples:]\n",
    "    coupled_solution = vdp_solution[0:1] + vdp_solution[2:3]\n",
    "    \n",
    "    num_periods_subsample = 5\n",
    "    sampling_rate_subsample = 64\n",
    "\n",
    "    t_max_idx = int(num_periods_subsample*slow_period_length/dt_simulate)+2\n",
    "    spacing = sampling_rate_simulate//sampling_rate_subsample\n",
    "\n",
    "    t_sample = t_simulate[:t_max_idx:spacing]\n",
    "    dt_sample = t_sample[1] - t_sample[0]\n",
    "\n",
    "    sampled_data = coupled_solution[:,:t_max_idx:spacing]\n",
    "\n",
    "    time_delay=sampling_rate_subsample*frequency_multiplier\n",
    "    time_delay_spacing=1\n",
    "    rank=100\n",
    "    \n",
    "    sample_spacing=1\n",
    "    dt_scaling=1\n",
    "\n",
    "    dmd = utils.DMD(truncation='hard', threshold=rank, time_delay=time_delay, time_delay_spacing=time_delay_spacing)\n",
    "    dmd.fit(sampled_data, dt_sample, sample_spacing=sample_spacing, dt_scale=dt_scaling)\n",
    "    dmd_reconstruction = dmd.reconstruct(t_simulate, imaginary_evals=True)\n",
    "\n",
    "    error = np.mean((coupled_solution[0] - dmd_reconstruction[0])**2)\n",
    "    nospacing_errors[fm_idx] = error\n",
    "    nospacing_matrix_size[fm_idx] = utils.hankel_matrix(sampled_data, time_delay,\n",
    "                                                    spacing=time_delay_spacing)[:,dt_scaling::sample_spacing].shape"
   ]
  },
  {
   "cell_type": "markdown",
   "metadata": {},
   "source": [
    "## Space out rows and columns"
   ]
  },
  {
   "cell_type": "code",
   "execution_count": 5,
   "metadata": {},
   "outputs": [
    {
     "name": "stdout",
     "output_type": "stream",
     "text": [
      "Frequency multiplier 8\n",
      "Frequency multiplier 16\n",
      "Frequency multiplier 32\n",
      "Frequency multiplier 64\n",
      "Frequency multiplier 128\n"
     ]
    }
   ],
   "source": [
    "fullspacing_errors = np.zeros(frequency_multipliers.shape)\n",
    "fullspacing_matrix_size = np.zeros((frequency_multipliers.size,2))\n",
    "\n",
    "for fm_idx,frequency_multiplier in enumerate(frequency_multipliers):\n",
    "    print(\"Frequency multiplier %d\" % frequency_multiplier)\n",
    "\n",
    "    mu1=5\n",
    "    mu2=5\n",
    "    c1 = 0\n",
    "    c2 = 0\n",
    "    tau1=.2\n",
    "    tau2=tau1*frequency_multiplier\n",
    "\n",
    "    x0=[0.0,2.0,2.0,0.0]\n",
    "    \n",
    "    fast_period_length = 11.45015*tau1\n",
    "    slow_period_length = fast_period_length*frequency_multiplier\n",
    "\n",
    "    num_periods_simulate = 10\n",
    "    sampling_rate_simulate = 2048\n",
    "    t_simulate = np.linspace(0, num_periods_simulate*slow_period_length,\n",
    "                    int(num_periods_simulate*sampling_rate_simulate*slow_period_length/fast_period_length))\n",
    "    dt_simulate = t_simulate[1]-t_simulate[0]\n",
    "\n",
    "    initial_samples = int(5*sampling_rate_simulate)\n",
    "    vdp_simulation = utils.simulate_coupled_vdp(dt_simulate, t_simulate.size+initial_samples, x0=x0,\n",
    "                                              mu1=mu1, mu2=mu2, c1=c1, c2=c2, tau1=tau1, tau2=tau2)[0]\n",
    "    vdp_solution = vdp_simulation[:,initial_samples:]\n",
    "    coupled_solution = vdp_solution[0:1] + vdp_solution[2:3]\n",
    "    \n",
    "    num_periods_subsample = 5\n",
    "    sampling_rate_subsample = 256\n",
    "\n",
    "    t_max_idx = int(num_periods_subsample*slow_period_length/dt_simulate)+2\n",
    "    spacing = sampling_rate_simulate//sampling_rate_subsample\n",
    "\n",
    "    t_sample = t_simulate[:t_max_idx:spacing]\n",
    "    dt_sample = t_sample[1] - t_sample[0]\n",
    "\n",
    "    sampled_data = coupled_solution[:,:t_max_idx:spacing]\n",
    "\n",
    "    time_delay=sampling_rate_subsample\n",
    "    time_delay_spacing=frequency_multiplier\n",
    "    rank=100\n",
    "    \n",
    "    sample_spacing=frequency_multiplier//frequency_multipliers[0]\n",
    "    dt_scaling=4\n",
    "\n",
    "    dmd = utils.DMD(truncation='hard', threshold=rank, time_delay=time_delay, time_delay_spacing=time_delay_spacing)\n",
    "    dmd.fit(sampled_data, dt_sample, sample_spacing=sample_spacing, dt_scale=dt_scaling)\n",
    "    dmd_reconstruction = dmd.reconstruct(t_simulate, imaginary_evals=True)\n",
    "\n",
    "    error = np.mean((coupled_solution[0,t_max_idx:] - dmd_reconstruction[0,t_max_idx:])**2)\n",
    "    fullspacing_errors[fm_idx] = error\n",
    "    fullspacing_matrix_size[fm_idx] = utils.hankel_matrix(sampled_data, time_delay,\n",
    "                                                    spacing=time_delay_spacing)[:,dt_scaling::sample_spacing].shape"
   ]
  },
  {
   "cell_type": "markdown",
   "metadata": {},
   "source": [
    "# Plot results\n",
    "\n",
    "## Snapshot matrix size"
   ]
  },
  {
   "cell_type": "code",
   "execution_count": 6,
   "metadata": {},
   "outputs": [
    {
     "data": {
      "application/pdf": "[encoded data removed]",
      "image/png": "[encoded data removed]",
      "text/plain": [
       "<matplotlib.figure.Figure at 0x7f2e4a374e10>"
      ]
     },
     "metadata": {},
     "output_type": "display_data"
    }
   ],
   "source": [
    "plt.figure(figsize=(3,2.5))\n",
    "plt.loglog(frequency_multipliers, nospacing_matrix_size[:,0]*nospacing_matrix_size[:,1], '.-k', linewidth=2)\n",
    "plt.loglog(frequency_multipliers, downsample_matrix_size[:,0]*downsample_matrix_size[:,1], '.--k', linewidth=2)\n",
    "plt.loglog(frequency_multipliers, fullspacing_matrix_size[:,0]*fullspacing_matrix_size[:,1], '.:k', linewidth=2)\n",
    "plt.tight_layout()\n",
    "# plt.savefig('figures/05b_spacing_scaling.pdf', format='pdf', dpi=300)"
   ]
  },
  {
   "cell_type": "markdown",
   "metadata": {},
   "source": [
    "## Error"
   ]
  },
  {
   "cell_type": "code",
   "execution_count": 7,
   "metadata": {},
   "outputs": [
    {
     "data": {
      "application/pdf": "[encoded data removed]",
      "image/png": "[encoded data removed]",
      "text/plain": [
       "<matplotlib.figure.Figure at 0x7f2de62fa9e8>"
      ]
     },
     "metadata": {},
     "output_type": "display_data"
    }
   ],
   "source": [
    "plt.figure(figsize=(3.1,2.5))\n",
    "plt.loglog(frequency_multipliers, nospacing_errors, '.-k')\n",
    "plt.loglog(frequency_multipliers, downsample_errors, '.--k')\n",
    "plt.loglog(frequency_multipliers, fullspacing_errors, '.:k')\n",
    "plt.tight_layout()\n",
    "# plt.savefig('figures/05b_spacing_errors.pdf', format='pdf', dpi=300)"
   ]
  },
  {
   "cell_type": "code",
   "execution_count": null,
   "metadata": {
    "collapsed": true
   },
   "outputs": [],
   "source": []
  }
 ],
 "metadata": {
  "kernelspec": {
   "display_name": "Python 3",
   "language": "python",
   "name": "python3"
  },
  "language_info": {
   "codemirror_mode": {
    "name": "ipython",
    "version": 3
   },
   "file_extension": ".py",
   "mimetype": "text/x-python",
   "name": "python",
   "nbconvert_exporter": "python",
   "pygments_lexer": "ipython3",
   "version": "3.6.2"
  }
 },
 "nbformat": 4,
 "nbformat_minor": 2
}
