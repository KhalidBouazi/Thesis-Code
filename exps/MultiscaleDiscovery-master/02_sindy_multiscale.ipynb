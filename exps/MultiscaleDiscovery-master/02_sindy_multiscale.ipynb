{
 "cells": [
  {
   "cell_type": "code",
   "execution_count": 1,
   "metadata": {
    "collapsed": true
   },
   "outputs": [],
   "source": [
    "import numpy as np\n",
    "import scipy.linalg as la\n",
    "from scipy.integrate import ode\n",
    "import scipy\n",
    "from scipy import signal\n",
    "import utils\n",
    "import matplotlib\n",
    "import matplotlib.pyplot as plt\n",
    "from mpl_toolkits.mplot3d import Axes3D\n",
    "from matplotlib import colors\n",
    "%matplotlib inline\n",
    "from IPython.display import set_matplotlib_formats\n",
    "set_matplotlib_formats('png', 'pdf')"
   ]
  },
  {
   "cell_type": "code",
   "execution_count": 2,
   "metadata": {
    "collapsed": true
   },
   "outputs": [],
   "source": [
    "def find_boundary(coefficient_matrix, data, threshold):\n",
    "    boundary_data = np.zeros(coefficient_matrix.shape[0])\n",
    "    for i in range(boundary_data.size):\n",
    "        entries_above = np.where(coefficient_matrix[i] > threshold)\n",
    "        if entries_above[0].size==0:\n",
    "            index=0\n",
    "        else:\n",
    "            index = np.max(entries_above)+1\n",
    "        if index==coefficient_matrix.shape[1]:\n",
    "            boundary_data[i]=np.inf\n",
    "        else:\n",
    "            boundary_data[i]=data[index]\n",
    "    return boundary_data"
   ]
  },
  {
   "cell_type": "markdown",
   "metadata": {},
   "source": [
    "## Two Van der Pol"
   ]
  },
  {
   "cell_type": "code",
   "execution_count": 3,
   "metadata": {
    "collapsed": true
   },
   "outputs": [],
   "source": [
    "poly_order = 3\n",
    "coefficient_threshold = .001\n",
    "tol = 1e-10\n",
    "\n",
    "mu=5\n",
    "c1=0.005\n",
    "c2=1\n",
    "\n",
    "x0=[0.0,2.0,2.0,0.0]"
   ]
  },
  {
   "cell_type": "markdown",
   "metadata": {},
   "source": [
    "### Uniform sampling"
   ]
  },
  {
   "cell_type": "code",
   "execution_count": 4,
   "metadata": {
    "collapsed": true
   },
   "outputs": [],
   "source": [
    "num_periods_simulate = 1\n",
    "sampling_rate_simulate_exponent = 14\n",
    "sampling_rate_simulate = 2**sampling_rate_simulate_exponent\n",
    "\n",
    "frequency_multipliers = np.arange(10,110,10)\n",
    "test_durations = np.arange(.05,1.05,.05)\n",
    "\n",
    "sampling_rate_exponent = 12\n",
    "sampling_rate = 2**sampling_rate_exponent\n",
    "spacing = sampling_rate_simulate//sampling_rate\n",
    "\n",
    "total_samples = np.zeros((frequency_multipliers.size, test_durations.size))\n",
    "extra_coefficients = np.zeros((frequency_multipliers.size, test_durations.size))\n",
    "\n",
    "for idx,frequency_multiplier in enumerate(frequency_multipliers):\n",
    "    tau_fast = .2\n",
    "    tau_slow = tau_fast*frequency_multiplier\n",
    "\n",
    "    fast_period_length = 11.45015*tau_fast\n",
    "    slow_period_length = fast_period_length*frequency_multiplier\n",
    "\n",
    "    Xi_true = np.zeros((35,4))\n",
    "    Xi_true[2,0] = 1\n",
    "    Xi_true[3,0] = c1\n",
    "    Xi_true[1,1] = -1\n",
    "    Xi_true[2,1] = mu\n",
    "    Xi_true[16,1] = -mu\n",
    "    Xi_true[:,:2] /= tau_fast\n",
    "    Xi_true[1,2] = c2\n",
    "    Xi_true[4,2] = 1\n",
    "    Xi_true[3,3] = -1\n",
    "    Xi_true[4,3] = mu\n",
    "    Xi_true[32,3] = -mu\n",
    "    Xi_true[:,2:] /= tau_slow\n",
    "    \n",
    "    t_simulate = np.linspace(0, num_periods_simulate*slow_period_length,\n",
    "                    int(num_periods_simulate*sampling_rate_simulate*slow_period_length/fast_period_length))\n",
    "    dt_simulate = t_simulate[1]-t_simulate[0]\n",
    "    \n",
    "    initial_samples = int(5*sampling_rate_simulate)\n",
    "    vdp_simulation = utils.simulate_coupled_vdp(dt_simulate, t_simulate.size+initial_samples, x0=x0,\n",
    "                                              mu1=mu, mu2=mu, c1=c1, c2=c2,\n",
    "                                              tau1=tau_fast, tau2=tau_slow)[0][:,initial_samples:]\n",
    "    \n",
    "    for i,duration in enumerate(test_durations):\n",
    "        # get subsamples\n",
    "        t_max_idx = int(duration*frequency_multiplier*sampling_rate_simulate)+1\n",
    "\n",
    "        t_sample = t_simulate[:t_max_idx:spacing]\n",
    "        dt_sample = t_sample[1] - t_sample[0]\n",
    "        total_samples[idx,i] = t_sample.size\n",
    "\n",
    "        sampled_data = vdp_simulation[:,:t_max_idx:spacing]\n",
    "\n",
    "        sindy = utils.SINDy()\n",
    "        sindy.fit(sampled_data, poly_order, t=dt_sample, coefficient_threshold=coefficient_threshold)\n",
    "        extra_coefficients[idx,i] = np.where(((np.abs(Xi_true) < tol) & (np.abs(sindy.Xi) > tol))\\\n",
    "                                              | ((np.abs(Xi_true) > tol) & (np.abs(sindy.Xi) < tol)))[0].size\n",
    "\n",
    "vdp_data = [frequency_multipliers,\n",
    "            find_boundary(extra_coefficients, test_durations, 0)*frequency_multipliers*sampling_rate]"
   ]
  },
  {
   "cell_type": "markdown",
   "metadata": {},
   "source": [
    "### Burst sampling"
   ]
  },
  {
   "cell_type": "code",
   "execution_count": 5,
   "metadata": {
    "collapsed": true
   },
   "outputs": [],
   "source": [
    "np.random.seed(1)\n",
    "\n",
    "frequency_multipliers = np.arange(10,110,10)\n",
    "subsample_chunks_exponent = np.arange(2,12)\n",
    "\n",
    "subsample_chunk_size_exponent = 3\n",
    "subsample_chunk_size = 2**subsample_chunk_size_exponent\n",
    "\n",
    "extra_coefficients = np.zeros((frequency_multipliers.size, subsample_chunks_exponent.size))\n",
    "incorrect_trial_fraction = np.zeros((frequency_multipliers.size, subsample_chunks_exponent.size))\n",
    "total_samples = np.zeros((frequency_multipliers.size, subsample_chunks_exponent.size))\n",
    "\n",
    "subsample_duration = 2\n",
    "num_trials=100\n",
    "\n",
    "for idx,frequency_multiplier in enumerate(frequency_multipliers):\n",
    "    tau_fast = 0.2\n",
    "    tau_slow = tau_fast*frequency_multiplier\n",
    "\n",
    "    fast_period_length = 11.45015*tau_fast\n",
    "    slow_period_length = fast_period_length*frequency_multiplier\n",
    "\n",
    "    Xi_true = np.zeros((35,4))\n",
    "    Xi_true[2,0] = 1\n",
    "    Xi_true[3,0] = c1\n",
    "    Xi_true[1,1] = -1\n",
    "    Xi_true[2,1] = mu\n",
    "    Xi_true[16,1] = -mu\n",
    "    Xi_true[:,:2] /= tau_fast\n",
    "    Xi_true[1,2] = c2\n",
    "    Xi_true[4,2] = 1\n",
    "    Xi_true[3,3] = -1\n",
    "    Xi_true[4,3] = mu\n",
    "    Xi_true[32,3] = -mu\n",
    "    Xi_true[:,2:] /= tau_slow\n",
    "    \n",
    "    num_periods_simulate = 3\n",
    "    sampling_rate_simulate_exponent = 12\n",
    "    sampling_rate_simulate = 2**sampling_rate_simulate_exponent\n",
    "    t_simulate = np.linspace(0, num_periods_simulate*slow_period_length,\n",
    "                    int(num_periods_simulate*sampling_rate_simulate*frequency_multiplier))\n",
    "    dt_simulate = t_simulate[1]-t_simulate[0]\n",
    "\n",
    "    sampling_rate_base_exponent = 12\n",
    "    sampling_rate_base = 2**sampling_rate_base_exponent\n",
    "    spacing = 2**(sampling_rate_simulate_exponent - sampling_rate_base_exponent)\n",
    "    t_sample = t_simulate[::spacing]\n",
    "    dt_sample = t_sample[1] - t_sample[0]\n",
    "    \n",
    "    initial_samples = 5*sampling_rate_simulate\n",
    "    vdp_simulation = utils.simulate_coupled_vdp(dt_simulate, t_simulate.size+initial_samples, x0=[0,2,2,0],\n",
    "                                              mu1=mu, mu2=mu, c1=c1, c2=c2,\n",
    "                                              tau1=tau_fast, tau2=tau_slow)[0][:,initial_samples:]\n",
    "    vdp_solution = vdp_simulation[:,::spacing]\n",
    "        \n",
    "    for j,subsample_chunk_exponent in enumerate(subsample_chunks_exponent):\n",
    "        subsample_chunk = 2**subsample_chunk_exponent\n",
    "\n",
    "        expected_samples = subsample_chunk*subsample_chunk_size\n",
    "        t_max_idx = int(subsample_duration*frequency_multiplier*sampling_rate_base)+1\n",
    "\n",
    "        subsample_start_idxs = np.linspace(0, t_max_idx-subsample_chunk_size, subsample_chunk).astype(int)\n",
    "        sample_separation = subsample_start_idxs[1] - subsample_chunk_size\n",
    "        if (expected_samples/t_max_idx > .9) or (sample_separation <= 5):\n",
    "            total_samples[idx,j] = np.nan\n",
    "            extra_coefficients[idx,j] = np.nan\n",
    "            incorrect_trial_fraction[idx,j] = np.nan\n",
    "            continue\n",
    "\n",
    "        for trial in range(num_trials):    \n",
    "            subsample_start_idxs = np.linspace(0, t_max_idx-subsample_chunk_size, subsample_chunk).astype(int)\n",
    "            sample_separation = subsample_start_idxs[1] - subsample_chunk_size\n",
    "            subsample_offsets = np.random.randint(sample_separation-1, size=subsample_chunk-2)\\\n",
    "                                - (sample_separation-1)//2\n",
    "            subsample_start_idxs[1:-1] += subsample_offsets\n",
    "            subsample_idxs = np.unique(np.sort((subsample_start_idxs[:,np.newaxis] \\\n",
    "                                                + np.arange(subsample_chunk_size)).flatten()))\n",
    "\n",
    "            t_subsample = t_sample[subsample_idxs]\n",
    "\n",
    "            total_samples[idx,j] = t_subsample.size\n",
    "            subsampled_data = vdp_solution[:,subsample_idxs]\n",
    "            sindy = utils.SINDy()\n",
    "            sindy.fit(subsampled_data, poly_order, t_subsample, dt_max=1.5*dt_sample,\n",
    "                      coefficient_threshold=coefficient_threshold)\n",
    "            tmp = np.where(((np.abs(Xi_true) < tol) & (np.abs(sindy.Xi) > tol))\\\n",
    "                            | ((np.abs(Xi_true) > tol) & (np.abs(sindy.Xi) < tol)))[0].size\n",
    "            extra_coefficients[idx,j] += tmp\n",
    "            if tmp>0:\n",
    "                incorrect_trial_fraction[idx,j] += 1\n",
    "\n",
    "extra_coefficients /= num_trials\n",
    "incorrect_trial_fraction /= num_trials\n",
    "\n",
    "vdp_burst_data0 = [frequency_multipliers,\n",
    "                         (2**find_boundary(incorrect_trial_fraction,\n",
    "                                           subsample_chunks_exponent, 0))*(2**subsample_chunk_size_exponent)]\n",
    "vdp_burst_data05 = [frequency_multipliers,\n",
    "                         (2**find_boundary(incorrect_trial_fraction,\n",
    "                                           subsample_chunks_exponent, 0.05))*(2**subsample_chunk_size_exponent)]"
   ]
  },
  {
   "cell_type": "code",
   "execution_count": 6,
   "metadata": {},
   "outputs": [
    {
     "data": {
      "text/plain": [
       "[<matplotlib.lines.Line2D at 0x7f80037e10f0>]"
      ]
     },
     "execution_count": 6,
     "metadata": {},
     "output_type": "execute_result"
    },
    {
     "data": {
      "application/pdf": "[encoded data removed]",
      "image/png": "[encoded data removed]",
      "text/plain": [
       "<matplotlib.figure.Figure at 0x7f7f9a602128>"
      ]
     },
     "metadata": {},
     "output_type": "display_data"
    }
   ],
   "source": [
    "plt.figure()\n",
    "plt.plot(vdp_data[0], vdp_data[1], '.-')\n",
    "plt.plot(vdp_burst_data0[0], vdp_burst_data0[1], '.-')\n",
    "plt.plot(vdp_burst_data05[0], vdp_burst_data05[1], '.-')"
   ]
  },
  {
   "cell_type": "markdown",
   "metadata": {},
   "source": [
    "## Slow Van der Pol, fast Lorenz"
   ]
  },
  {
   "cell_type": "code",
   "execution_count": 7,
   "metadata": {
    "collapsed": true
   },
   "outputs": [],
   "source": [
    "poly_order = 3\n",
    "coefficient_threshold = .001\n",
    "tol = 1e-10\n",
    "\n",
    "mu=5\n",
    "sigma=10.\n",
    "rho=28.\n",
    "beta=8/3\n",
    "c1=0.01\n",
    "c2=10\n",
    "\n",
    "x0 = [0.0, 2.0, -8.0, 7.0, 27.0]\n",
    "\n",
    "lorenz_base_period_length = .759\n",
    "vdp_base_period_length = 11.45015"
   ]
  },
  {
   "cell_type": "markdown",
   "metadata": {},
   "source": [
    "### Uniform sampling"
   ]
  },
  {
   "cell_type": "code",
   "execution_count": 8,
   "metadata": {
    "collapsed": true
   },
   "outputs": [],
   "source": [
    "num_periods_simulate = 1.5\n",
    "sampling_rate_simulate_exponent = 14\n",
    "sampling_rate_simulate = 2**sampling_rate_simulate_exponent\n",
    "\n",
    "frequency_multipliers = np.arange(10,110,10)\n",
    "test_durations = np.arange(.05,1.05,.05)\n",
    "\n",
    "sampling_rate_exponent = 11\n",
    "sampling_rate = 2**sampling_rate_exponent\n",
    "spacing = sampling_rate_simulate//sampling_rate\n",
    "\n",
    "total_samples = np.zeros((frequency_multipliers.size, test_durations.size))\n",
    "extra_coefficients = np.zeros((frequency_multipliers.size, test_durations.size))\n",
    "\n",
    "for idx,frequency_multiplier in enumerate(frequency_multipliers):\n",
    "    tau_vdp = .05*frequency_multiplier\n",
    "    tau_lorenz = .05*vdp_base_period_length/lorenz_base_period_length\n",
    "\n",
    "    fast_period_length = tau_lorenz*lorenz_base_period_length\n",
    "    slow_period_length = tau_vdp*vdp_base_period_length\n",
    "\n",
    "    Xi_true = np.zeros((56,5))\n",
    "    Xi_true[2,0] = 1\n",
    "    Xi_true[3,0] = c1\n",
    "    Xi_true[1,1] = -1\n",
    "    Xi_true[2,1] = mu\n",
    "    Xi_true[22,1] = -mu\n",
    "    Xi_true[:,0:2] /= tau_vdp\n",
    "    Xi_true[1,2] = c2\n",
    "    Xi_true[3,2] = -sigma\n",
    "    Xi_true[4,2] = sigma\n",
    "    Xi_true[3,3] = rho\n",
    "    Xi_true[4,3] = -1\n",
    "    Xi_true[17,3] = -1\n",
    "    Xi_true[5,4] = -beta\n",
    "    Xi_true[16,4] = 1\n",
    "    Xi_true[:,2:] /= tau_lorenz\n",
    "    \n",
    "    t_simulate = np.linspace(0, num_periods_simulate*slow_period_length,\n",
    "                    int(num_periods_simulate*sampling_rate_simulate*slow_period_length/fast_period_length))\n",
    "    dt_simulate = t_simulate[1]-t_simulate[0]\n",
    "    \n",
    "    initial_samples = int(6*sampling_rate_simulate)\n",
    "    vdp_lorenz_simulation = utils.simulate_coupled_vdp_lorenz(dt_simulate, t_simulate.size+initial_samples, x0=x0,\n",
    "                                                 mu=mu, sigma=sigma, rho=rho, beta=beta, c1=c1, c2=c2,\n",
    "                                                 tau1=tau_vdp, tau2=tau_lorenz)[0][:,initial_samples:]\n",
    "    \n",
    "    for i,duration in enumerate(test_durations):\n",
    "        # get subsamples\n",
    "        t_max_idx = int(duration*frequency_multiplier*sampling_rate_simulate)+1\n",
    "\n",
    "        t_sample = t_simulate[:t_max_idx:spacing]\n",
    "        dt_sample = t_sample[1] - t_sample[0]\n",
    "        total_samples[idx,i] = t_sample.size\n",
    "\n",
    "        sampled_data = vdp_lorenz_simulation[:,:t_max_idx:spacing]\n",
    "\n",
    "        sindy = utils.SINDy()\n",
    "        sindy.fit(sampled_data, poly_order, t=dt_sample, coefficient_threshold=coefficient_threshold)\n",
    "        extra_coefficients[idx,i] = np.where(((np.abs(Xi_true) < tol) & (np.abs(sindy.Xi) > tol))\\\n",
    "                                              | ((np.abs(Xi_true) > tol) & (np.abs(sindy.Xi) < tol)))[0].size\n",
    "\n",
    "vdplorenz1_data = [frequency_multipliers,\n",
    "                   find_boundary(extra_coefficients, test_durations, 0)*frequency_multipliers*sampling_rate]"
   ]
  },
  {
   "cell_type": "markdown",
   "metadata": {},
   "source": [
    "### Burst sampling"
   ]
  },
  {
   "cell_type": "code",
   "execution_count": 9,
   "metadata": {
    "collapsed": true
   },
   "outputs": [],
   "source": [
    "np.random.seed(2)\n",
    "\n",
    "frequency_multipliers = np.arange(10,110,10)\n",
    "subsample_chunks_exponent = np.arange(2,13)\n",
    "\n",
    "subsample_chunk_size_exponent = 3\n",
    "subsample_chunk_size = 2**subsample_chunk_size_exponent\n",
    "\n",
    "extra_coefficients = np.zeros((frequency_multipliers.size, subsample_chunks_exponent.size))\n",
    "incorrect_trial_fraction = np.zeros((frequency_multipliers.size, subsample_chunks_exponent.size))\n",
    "total_samples = np.zeros((frequency_multipliers.size, subsample_chunks_exponent.size))\n",
    "\n",
    "subsample_duration = 2\n",
    "num_trials=100\n",
    "\n",
    "for idx,frequency_multiplier in enumerate(frequency_multipliers):\n",
    "    tau_vdp = .05*frequency_multiplier\n",
    "    tau_lorenz = .05*vdp_base_period_length/lorenz_base_period_length\n",
    "\n",
    "    fast_period_length = tau_lorenz*lorenz_base_period_length\n",
    "    slow_period_length = tau_vdp*vdp_base_period_length\n",
    "\n",
    "    Xi_true = np.zeros((56,5))\n",
    "    Xi_true[2,0] = 1\n",
    "    Xi_true[3,0] = c1\n",
    "    Xi_true[1,1] = -1\n",
    "    Xi_true[2,1] = mu\n",
    "    Xi_true[22,1] = -mu\n",
    "    Xi_true[:,0:2] /= tau_vdp\n",
    "    Xi_true[1,2] = c2\n",
    "    Xi_true[3,2] = -sigma\n",
    "    Xi_true[4,2] = sigma\n",
    "    Xi_true[3,3] = rho\n",
    "    Xi_true[4,3] = -1\n",
    "    Xi_true[17,3] = -1\n",
    "    Xi_true[5,4] = -beta\n",
    "    Xi_true[16,4] = 1\n",
    "    Xi_true[:,2:] /= tau_lorenz\n",
    "    \n",
    "    num_periods_simulate = 2.5\n",
    "    sampling_rate_simulate_exponent = 12\n",
    "    sampling_rate_simulate = 2**sampling_rate_simulate_exponent\n",
    "    t_simulate = np.linspace(0, num_periods_simulate*slow_period_length,\n",
    "                    int(num_periods_simulate*sampling_rate_simulate*frequency_multiplier))\n",
    "    dt_simulate = t_simulate[1]-t_simulate[0]\n",
    "\n",
    "    sampling_rate_base_exponent = 11\n",
    "    sampling_rate_base = 2**sampling_rate_base_exponent\n",
    "    spacing = 2**(sampling_rate_simulate_exponent - sampling_rate_base_exponent)\n",
    "    t_sample = t_simulate[::spacing]\n",
    "    dt_sample = t_sample[1] - t_sample[0]\n",
    "    \n",
    "    initial_samples = 6*sampling_rate_simulate\n",
    "    vdp_lorenz_simulation = utils.simulate_coupled_vdp_lorenz(dt_simulate, t_simulate.size+initial_samples, x0=x0,\n",
    "                                                 mu=mu, sigma=sigma, rho=rho, beta=beta, c1=c1, c2=c2,\n",
    "                                                 tau1=tau_vdp, tau2=tau_lorenz)[0][:,initial_samples:]\n",
    "    vdp_lorenz_solution = vdp_lorenz_simulation[:,::spacing]\n",
    "        \n",
    "    for j,subsample_chunk_exponent in enumerate(subsample_chunks_exponent):\n",
    "        subsample_chunk = 2**subsample_chunk_exponent\n",
    "\n",
    "        expected_samples = subsample_chunk*subsample_chunk_size\n",
    "        t_max_idx = int(subsample_duration*frequency_multiplier*sampling_rate_base)+1\n",
    "\n",
    "        subsample_start_idxs = np.linspace(0, t_max_idx-subsample_chunk_size, subsample_chunk).astype(int)\n",
    "        sample_separation = subsample_start_idxs[1] - subsample_chunk_size\n",
    "        if (expected_samples/t_max_idx > .9) or (sample_separation <= 5):\n",
    "            total_samples[idx,j] = np.nan\n",
    "            extra_coefficients[idx,j] = np.nan\n",
    "            incorrect_trial_fraction[idx,j] = np.nan\n",
    "            continue\n",
    "\n",
    "        for trial in range(num_trials):    \n",
    "            subsample_start_idxs = np.linspace(0, t_max_idx-subsample_chunk_size, subsample_chunk).astype(int)\n",
    "            sample_separation = subsample_start_idxs[1] - subsample_chunk_size\n",
    "            subsample_offsets = np.random.randint(sample_separation-1, size=subsample_chunk-2)\\\n",
    "                                - (sample_separation-1)//2\n",
    "            subsample_start_idxs[1:-1] += subsample_offsets\n",
    "            subsample_idxs = np.unique(np.sort((subsample_start_idxs[:,np.newaxis] \\\n",
    "                                                + np.arange(subsample_chunk_size)).flatten()))\n",
    "\n",
    "            t_subsample = t_sample[subsample_idxs]\n",
    "\n",
    "            total_samples[idx,j] = t_subsample.size\n",
    "            subsampled_data = vdp_lorenz_solution[:,subsample_idxs]\n",
    "            sindy = utils.SINDy()\n",
    "            sindy.fit(subsampled_data, poly_order, t_subsample, dt_max=1.5*dt_sample,\n",
    "                      coefficient_threshold=coefficient_threshold)\n",
    "            tmp = np.where(((np.abs(Xi_true) < tol) & (np.abs(sindy.Xi) > tol))\\\n",
    "                            | ((np.abs(Xi_true) > tol) & (np.abs(sindy.Xi) < tol)))[0].size\n",
    "            extra_coefficients[idx,j] += tmp\n",
    "            if tmp>0:\n",
    "                incorrect_trial_fraction[idx,j] += 1\n",
    "\n",
    "extra_coefficients /= num_trials\n",
    "incorrect_trial_fraction /= num_trials"
   ]
  },
  {
   "cell_type": "code",
   "execution_count": 10,
   "metadata": {},
   "outputs": [
    {
     "name": "stderr",
     "output_type": "stream",
     "text": [
      "/home/kpchamp/anaconda/envs/py3/lib/python3.6/site-packages/ipykernel_launcher.py:4: RuntimeWarning: invalid value encountered in greater\n",
      "  after removing the cwd from sys.path.\n"
     ]
    }
   ],
   "source": [
    "vdplorenz1_burst_data0 = [frequency_multipliers,\n",
    "                         (2**find_boundary(incorrect_trial_fraction,\n",
    "                                           subsample_chunks_exponent, 0))*(2**subsample_chunk_size_exponent)]\n",
    "vdplorenz1_burst_data05 = [frequency_multipliers,\n",
    "                         (2**find_boundary(incorrect_trial_fraction,\n",
    "                                           subsample_chunks_exponent, 0.05))*(2**subsample_chunk_size_exponent)]"
   ]
  },
  {
   "cell_type": "code",
   "execution_count": 11,
   "metadata": {},
   "outputs": [
    {
     "data": {
      "text/plain": [
       "[<matplotlib.lines.Line2D at 0x7f7f7e365b70>]"
      ]
     },
     "execution_count": 11,
     "metadata": {},
     "output_type": "execute_result"
    },
    {
     "data": {
      "application/pdf": "[encoded data removed]",
      "image/png": "[encoded data removed]",
      "text/plain": [
       "<matplotlib.figure.Figure at 0x7f7f7ea677f0>"
      ]
     },
     "metadata": {},
     "output_type": "display_data"
    }
   ],
   "source": [
    "plt.figure()\n",
    "plt.plot(vdplorenz1_data[0], vdplorenz1_data[1], '.-')\n",
    "plt.plot(vdplorenz1_burst_data0[0], vdplorenz1_burst_data0[1], '.-')\n",
    "plt.plot(vdplorenz1_burst_data05[0], vdplorenz1_burst_data05[1], '.-')"
   ]
  },
  {
   "cell_type": "markdown",
   "metadata": {},
   "source": [
    "## Fast Van der Pol, slow Lorenz"
   ]
  },
  {
   "cell_type": "code",
   "execution_count": 12,
   "metadata": {
    "collapsed": true
   },
   "outputs": [],
   "source": [
    "poly_order = 3\n",
    "coefficient_threshold = .002\n",
    "tol = 1e-10\n",
    "\n",
    "mu=5\n",
    "sigma=10.\n",
    "rho=28.\n",
    "beta=8/3\n",
    "c1=.005\n",
    "c2=10\n",
    "\n",
    "x0 = [0.0, 2.0, -8.0, 7.0, 27.0]\n",
    "\n",
    "lorenz_base_period_length = .759\n",
    "vdp_base_period_length = 11.45015"
   ]
  },
  {
   "cell_type": "markdown",
   "metadata": {},
   "source": [
    "### Uniform sampling"
   ]
  },
  {
   "cell_type": "code",
   "execution_count": 13,
   "metadata": {
    "collapsed": true
   },
   "outputs": [],
   "source": [
    "num_periods_simulate = 1.5\n",
    "sampling_rate_simulate_exponent = 14\n",
    "sampling_rate_simulate = 2**sampling_rate_simulate_exponent\n",
    "\n",
    "frequency_multipliers = np.arange(10,110,10)\n",
    "test_durations = np.arange(.1,1.5,.1)\n",
    "\n",
    "sampling_rate_exponent = 12\n",
    "sampling_rate = 2**sampling_rate_exponent\n",
    "spacing = sampling_rate_simulate//sampling_rate\n",
    "\n",
    "total_samples = np.zeros((frequency_multipliers.size, test_durations.size))\n",
    "extra_coefficients = np.zeros((frequency_multipliers.size, test_durations.size))\n",
    "\n",
    "for idx,frequency_multiplier in enumerate(frequency_multipliers):\n",
    "    tau_lorenz = 2*frequency_multiplier\n",
    "    tau_vdp = 2*lorenz_base_period_length/vdp_base_period_length\n",
    "\n",
    "    fast_period_length = tau_vdp*vdp_base_period_length\n",
    "    slow_period_length = tau_lorenz*lorenz_base_period_length\n",
    "\n",
    "    Xi_true = np.zeros((56,5))\n",
    "    Xi_true[2,0] = 1\n",
    "    Xi_true[3,0] = c1\n",
    "    Xi_true[1,1] = -1\n",
    "    Xi_true[2,1] = mu\n",
    "    Xi_true[22,1] = -mu\n",
    "    Xi_true[:,0:2] /= tau_vdp\n",
    "    Xi_true[1,2] = c2\n",
    "    Xi_true[3,2] = -sigma\n",
    "    Xi_true[4,2] = sigma\n",
    "    Xi_true[3,3] = rho\n",
    "    Xi_true[4,3] = -1\n",
    "    Xi_true[17,3] = -1\n",
    "    Xi_true[5,4] = -beta\n",
    "    Xi_true[16,4] = 1\n",
    "    Xi_true[:,2:] /= tau_lorenz\n",
    "    \n",
    "    t_simulate = np.linspace(0, num_periods_simulate*slow_period_length,\n",
    "                    int(num_periods_simulate*sampling_rate_simulate*slow_period_length/fast_period_length))\n",
    "    dt_simulate = t_simulate[1]-t_simulate[0]\n",
    "    \n",
    "    initial_samples = 6*sampling_rate_simulate\n",
    "    vdp_lorenz_simulation = utils.simulate_coupled_vdp_lorenz(dt_simulate, t_simulate.size+initial_samples, x0=x0,\n",
    "                                                 mu=mu, sigma=sigma, rho=rho, beta=beta, c1=c1, c2=c2,\n",
    "                                                 tau1=tau_vdp, tau2=tau_lorenz)[0][:,initial_samples:]\n",
    "    \n",
    "    for i,duration in enumerate(test_durations):\n",
    "        # get subsamples\n",
    "        t_max_idx = int(duration*frequency_multiplier*sampling_rate_simulate)+1\n",
    "\n",
    "        t_sample = t_simulate[:t_max_idx:spacing]\n",
    "        dt_sample = t_sample[1] - t_sample[0]\n",
    "        total_samples[idx,i] = t_sample.size\n",
    "\n",
    "        sampled_data = vdp_lorenz_simulation[:,:t_max_idx:spacing]\n",
    "\n",
    "        sindy = utils.SINDy()\n",
    "        sindy.fit(sampled_data, poly_order, t=dt_sample, coefficient_threshold=coefficient_threshold)\n",
    "        extra_coefficients[idx,i] = np.where(((np.abs(Xi_true) < tol) & (np.abs(sindy.Xi) > tol))\\\n",
    "                                              | ((np.abs(Xi_true) > tol) & (np.abs(sindy.Xi) < tol)))[0].size"
   ]
  },
  {
   "cell_type": "code",
   "execution_count": 14,
   "metadata": {
    "collapsed": true
   },
   "outputs": [],
   "source": [
    "vdplorenz2_data = [frequency_multipliers,\n",
    "                   find_boundary(extra_coefficients, test_durations, 0)*frequency_multipliers*sampling_rate]"
   ]
  },
  {
   "cell_type": "markdown",
   "metadata": {},
   "source": [
    "### Burst sampling"
   ]
  },
  {
   "cell_type": "code",
   "execution_count": 15,
   "metadata": {
    "collapsed": true
   },
   "outputs": [],
   "source": [
    "np.random.seed(3)\n",
    "\n",
    "frequency_multipliers = np.arange(10,110,10)\n",
    "subsample_chunks_exponent = np.arange(2,13)\n",
    "\n",
    "subsample_chunk_size_exponent = 3\n",
    "subsample_chunk_size = 2**subsample_chunk_size_exponent\n",
    "\n",
    "extra_coefficients = np.zeros((frequency_multipliers.size, subsample_chunks_exponent.size))\n",
    "incorrect_trial_fraction = np.zeros((frequency_multipliers.size, subsample_chunks_exponent.size))\n",
    "total_samples = np.zeros((frequency_multipliers.size, subsample_chunks_exponent.size))\n",
    "\n",
    "subsample_duration = 2\n",
    "num_trials=100\n",
    "\n",
    "for idx,frequency_multiplier in enumerate(frequency_multipliers):\n",
    "    tau_lorenz = 2*frequency_multiplier\n",
    "    tau_vdp = 2*lorenz_base_period_length/vdp_base_period_length\n",
    "\n",
    "    fast_period_length = tau_vdp*vdp_base_period_length\n",
    "    slow_period_length = tau_lorenz*lorenz_base_period_length\n",
    "\n",
    "    Xi_true = np.zeros((56,5))\n",
    "    Xi_true[2,0] = 1\n",
    "    Xi_true[3,0] = c1\n",
    "    Xi_true[1,1] = -1\n",
    "    Xi_true[2,1] = mu\n",
    "    Xi_true[22,1] = -mu\n",
    "    Xi_true[:,0:2] /= tau_vdp\n",
    "    Xi_true[1,2] = c2\n",
    "    Xi_true[3,2] = -sigma\n",
    "    Xi_true[4,2] = sigma\n",
    "    Xi_true[3,3] = rho\n",
    "    Xi_true[4,3] = -1\n",
    "    Xi_true[17,3] = -1\n",
    "    Xi_true[5,4] = -beta\n",
    "    Xi_true[16,4] = 1\n",
    "    Xi_true[:,2:] /= tau_lorenz\n",
    "    \n",
    "    num_periods_simulate = 2.5\n",
    "    sampling_rate_simulate_exponent = 12\n",
    "    sampling_rate_simulate = 2**sampling_rate_simulate_exponent\n",
    "    t_simulate = np.linspace(0, num_periods_simulate*slow_period_length,\n",
    "                    int(num_periods_simulate*sampling_rate_simulate*frequency_multiplier))\n",
    "    dt_simulate = t_simulate[1]-t_simulate[0]\n",
    "\n",
    "    sampling_rate_base_exponent = 12\n",
    "    sampling_rate_base = 2**sampling_rate_base_exponent\n",
    "    spacing = 2**(sampling_rate_simulate_exponent - sampling_rate_base_exponent)\n",
    "    t_sample = t_simulate[::spacing]\n",
    "    dt_sample = t_sample[1] - t_sample[0]\n",
    "    \n",
    "    initial_samples = 5*sampling_rate_simulate\n",
    "    vdp_lorenz_simulation = utils.simulate_coupled_vdp_lorenz(dt_simulate, t_simulate.size+initial_samples, x0=x0,\n",
    "                                                 mu=mu, sigma=sigma, rho=rho, beta=beta, c1=c1, c2=c2,\n",
    "                                                 tau1=tau_vdp, tau2=tau_lorenz)[0][:,initial_samples:]\n",
    "    vdp_lorenz_solution = vdp_lorenz_simulation[:,::spacing]\n",
    "        \n",
    "    for j,subsample_chunk_exponent in enumerate(subsample_chunks_exponent):\n",
    "        subsample_chunk = 2**subsample_chunk_exponent\n",
    "\n",
    "        expected_samples = subsample_chunk*subsample_chunk_size\n",
    "        t_max_idx = int(subsample_duration*frequency_multiplier*sampling_rate_base)+1\n",
    "\n",
    "        subsample_start_idxs = np.linspace(0, t_max_idx-subsample_chunk_size, subsample_chunk).astype(int)\n",
    "        sample_separation = subsample_start_idxs[1] - subsample_chunk_size\n",
    "        if (expected_samples/t_max_idx > .9) or (sample_separation <= 5):\n",
    "            total_samples[idx,j] = np.nan\n",
    "            extra_coefficients[idx,j] = np.nan\n",
    "            incorrect_trial_fraction[idx,j] = np.nan\n",
    "            continue\n",
    "\n",
    "        for trial in range(num_trials):    \n",
    "            subsample_start_idxs = np.linspace(0, t_max_idx-subsample_chunk_size, subsample_chunk).astype(int)\n",
    "            sample_separation = subsample_start_idxs[1] - subsample_chunk_size\n",
    "            subsample_offsets = np.random.randint(sample_separation-1, size=subsample_chunk-2)\\\n",
    "                                - (sample_separation-1)//2\n",
    "            subsample_start_idxs[1:-1] += subsample_offsets\n",
    "            subsample_idxs = np.unique(np.sort((subsample_start_idxs[:,np.newaxis] \\\n",
    "                                                + np.arange(subsample_chunk_size)).flatten()))\n",
    "\n",
    "            t_subsample = t_sample[subsample_idxs]\n",
    "\n",
    "            total_samples[idx,j] = t_subsample.size\n",
    "            subsampled_data = vdp_lorenz_solution[:,subsample_idxs]\n",
    "            sindy = utils.SINDy()\n",
    "            sindy.fit(subsampled_data, poly_order, t_subsample, dt_max=1.5*dt_sample,\n",
    "                      coefficient_threshold=coefficient_threshold)\n",
    "            tmp = np.where(((np.abs(Xi_true) < tol) & (np.abs(sindy.Xi) > tol))\\\n",
    "                            | ((np.abs(Xi_true) > tol) & (np.abs(sindy.Xi) < tol)))[0].size\n",
    "            extra_coefficients[idx,j] += tmp\n",
    "            if tmp>0:\n",
    "                incorrect_trial_fraction[idx,j] += 1\n",
    "\n",
    "extra_coefficients /= num_trials\n",
    "incorrect_trial_fraction /= num_trials\n",
    "\n",
    "vdplorenz2_burst_data0 = [frequency_multipliers,\n",
    "                         (2**find_boundary(incorrect_trial_fraction,\n",
    "                                           subsample_chunks_exponent, 0))*(2**subsample_chunk_size_exponent)]\n",
    "vdplorenz2_burst_data05 = [frequency_multipliers,\n",
    "                         (2**find_boundary(incorrect_trial_fraction,\n",
    "                                           subsample_chunks_exponent, 0.05))*(2**subsample_chunk_size_exponent)]"
   ]
  },
  {
   "cell_type": "code",
   "execution_count": 16,
   "metadata": {},
   "outputs": [
    {
     "data": {
      "text/plain": [
       "[<matplotlib.lines.Line2D at 0x7f7f887e0908>]"
      ]
     },
     "execution_count": 16,
     "metadata": {},
     "output_type": "execute_result"
    },
    {
     "data": {
      "application/pdf": "[encoded data removed]",
      "image/png": "[encoded data removed]",
      "text/plain": [
       "<matplotlib.figure.Figure at 0x7f7f50e68240>"
      ]
     },
     "metadata": {},
     "output_type": "display_data"
    }
   ],
   "source": [
    "plt.figure()\n",
    "plt.plot(vdplorenz2_data[0], vdplorenz2_data[1], '.-')\n",
    "plt.plot(vdplorenz2_burst_data0[0], vdplorenz2_burst_data0[1], '.-')\n",
    "plt.plot(vdplorenz2_burst_data05[0], vdplorenz2_burst_data05[1], '.-')"
   ]
  },
  {
   "cell_type": "markdown",
   "metadata": {},
   "source": [
    "# Plot all results"
   ]
  },
  {
   "cell_type": "code",
   "execution_count": 30,
   "metadata": {},
   "outputs": [
    {
     "data": {
      "application/pdf": "[encoded data removed]",
      "image/png": "[encoded data removed]",
      "text/plain": [
       "<matplotlib.figure.Figure at 0x7f7f97a9ce10>"
      ]
     },
     "metadata": {},
     "output_type": "display_data"
    }
   ],
   "source": [
    "fig = plt.figure(figsize=(9,3))\n",
    "\n",
    "plt.subplot(1,3,1)\n",
    "plt.plot(vdp_data[0], vdp_data[1], '.-', color='#666666', linewidth=2)\n",
    "plt.plot(vdp_burst_data0[0], vdp_burst_data0[1], '.-k', linewidth=2)\n",
    "plt.ylim([0,3e5])\n",
    "# plt.yticks(np.arange(0,3.5e5,5e4), np.arange(0,3.5,.5))\n",
    "plt.ticklabel_format(style='sci', axis='y', scilimits=(0,4))\n",
    "\n",
    "plt.subplot(1,3,2)\n",
    "plt.plot(vdplorenz1_data[0], vdplorenz1_data[1], '.-', color='#666666',\n",
    "         linewidth=2)\n",
    "plt.plot(vdplorenz1_burst_data0[0], vdplorenz1_burst_data0[1], '.-k', linewidth=2)\n",
    "plt.ylim([0,3e5])\n",
    "plt.yticks(np.arange(0,3.5e5,5e4), [])\n",
    "\n",
    "plt.subplot(1,3,3)\n",
    "plt.plot(vdplorenz2_data[0], vdplorenz2_data[1], '.-', color='#666666',\n",
    "        linewidth=2)\n",
    "plt.plot(vdplorenz2_burst_data0[0], vdplorenz2_burst_data0[1], '.-k', linewidth=2)\n",
    "plt.ylim([0,3e5])\n",
    "plt.yticks(np.arange(0,3.5e5,5e4), [])\n",
    "\n",
    "plt.tight_layout()\n",
    "plt.savefig('figures/04.pdf', format='pdf', dpi=300)"
   ]
  },
  {
   "cell_type": "code",
   "execution_count": null,
   "metadata": {
    "collapsed": true
   },
   "outputs": [],
   "source": []
  }
 ],
 "metadata": {
  "kernelspec": {
   "display_name": "Python 3",
   "language": "python",
   "name": "python3"
  },
  "language_info": {
   "codemirror_mode": {
    "name": "ipython",
    "version": 3
   },
   "file_extension": ".py",
   "mimetype": "text/x-python",
   "name": "python",
   "nbconvert_exporter": "python",
   "pygments_lexer": "ipython3",
   "version": "3.6.2"
  }
 },
 "nbformat": 4,
 "nbformat_minor": 2
}
