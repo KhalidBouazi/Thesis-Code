{
 "cells": [
  {
   "cell_type": "code",
   "execution_count": 1,
   "metadata": {},
   "outputs": [],
   "source": [
    "import numpy as np\n",
    "import scipy.linalg as la\n",
    "import utls\n",
    "import matplotlib\n",
    "import matplotlib.pyplot as plt\n",
    "from matplotlib import colors\n",
    "%matplotlib inline\n",
    "from IPython.display import set_matplotlib_formats\n",
    "set_matplotlib_formats('png','pdf')\n",
    "plt.rc('font',size=14)"
   ]
  },
  {
   "cell_type": "code",
   "execution_count": 2,
   "metadata": {},
   "outputs": [],
   "source": [
    "sigma = 10\n",
    "beta = 8/3\n",
    "rho = 160\n",
    "tau = 1\n",
    "x0 = [.1, .1, 100]\n",
    "\n",
    "period = 1.154*tau\n",
    "\n",
    "num_periods = 50\n",
    "sampling_rate = 4096\n",
    "t_sim = np.linspace(0, num_periods*period, int(num_periods*sampling_rate))\n",
    "dt_sim = t_sim[1] - t_sim[0]\n",
    "\n",
    "lorenz_sim = utls.simulate_lorenz(dt_sim, t_sim.size, x0=x0, sigma=sigma, rho=rho, beta=beta, tau=tau)[0]\n",
    "\n",
    "initial_samples = int(10*sampling_rate)\n",
    "t = t_sim[:-initial_samples]\n",
    "lorenz_sol = lorenz_sim[0:1, initial_samples:]"
   ]
  },
  {
   "cell_type": "code",
   "execution_count": 3,
   "metadata": {},
   "outputs": [],
   "source": [
    "num_periods_sub = 5\n",
    "sampling_rate_sub = 128\n",
    "\n",
    "t_max_idx = int(num_periods_sub * period / dt_sim) + 2\n",
    "spacing = sampling_rate // sampling_rate_sub\n",
    "\n",
    "t_sub = t_sim[:t_max_idx:spacing]\n",
    "dt_sub = t_sub[1] - t_sub[0]\n",
    "\n",
    "training_data = lorenz_sol[:,:t_max_idx:spacing]"
   ]
  },
  {
   "cell_type": "code",
   "execution_count": 4,
   "metadata": {},
   "outputs": [],
   "source": [
    "n_delay_coords = 128\n",
    "delay_spacing = 1\n",
    "rank = 12\n",
    "\n",
    "dmd = utls.DMD(trunc_method='hard', threshold=rank, n_delay_coords=n_delay_coords, spacing=delay_spacing)\n",
    "dmd.fit(training_data, dt_sub)\n",
    "dmd_recon = dmd.reconstruct(t_sim, imag_evals=True)"
   ]
  },
  {
   "cell_type": "code",
   "execution_count": 9,
   "metadata": {},
   "outputs": [
    {
     "data": {
      "text/plain": [
       "array([0.00000000e+00, 2.81739657e-04, 5.63479314e-04, ...,\n",
       "       5.76994365e+01, 5.76997183e+01, 5.77000000e+01])"
      ]
     },
     "execution_count": 9,
     "metadata": {},
     "output_type": "execute_result"
    }
   ],
   "source": [
    "t_sim"
   ]
  },
  {
   "cell_type": "code",
   "execution_count": null,
   "metadata": {},
   "outputs": [],
   "source": []
  }
 ],
 "metadata": {
  "kernelspec": {
   "display_name": "Python 3",
   "language": "python",
   "name": "python3"
  },
  "language_info": {
   "codemirror_mode": {
    "name": "ipython",
    "version": 3
   },
   "file_extension": ".py",
   "mimetype": "text/x-python",
   "name": "python",
   "nbconvert_exporter": "python",
   "pygments_lexer": "ipython3",
   "version": "3.8.3"
  }
 },
 "nbformat": 4,
 "nbformat_minor": 4
}
